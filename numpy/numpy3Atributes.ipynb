{
 "cells": [
  {
   "cell_type": "code",
   "execution_count": 2,
   "metadata": {},
   "outputs": [],
   "source": [
    "import numpy as np"
   ]
  },
  {
   "cell_type": "code",
   "execution_count": 3,
   "metadata": {},
   "outputs": [
    {
     "data": {
      "text/plain": [
       "array([ 48, 118,  68, 104,  10,  22,  37,  88,  71,  89, 141,  59,  40,\n",
       "        88,  89,  82,  26,  78,  73,  10, 149, 116,  80,  83, 100,  30,\n",
       "       148, 148, 143,  33])"
      ]
     },
     "execution_count": 3,
     "metadata": {},
     "output_type": "execute_result"
    }
   ],
   "source": [
    "np.random.seed(seed=0)\n",
    "arr = np.random.randint(low=1,high=150,size=30)\n",
    "arr"
   ]
  },
  {
   "cell_type": "code",
   "execution_count": 4,
   "metadata": {},
   "outputs": [
    {
     "data": {
      "text/plain": [
       "array([[ 48, 118,  68, 104,  10,  22,  37,  88,  71,  89],\n",
       "       [141,  59,  40,  88,  89,  82,  26,  78,  73,  10],\n",
       "       [149, 116,  80,  83, 100,  30, 148, 148, 143,  33]])"
      ]
     },
     "execution_count": 4,
     "metadata": {},
     "output_type": "execute_result"
    }
   ],
   "source": [
    "arr_reshaped = arr.reshape(3,10)  # 2-d array, 3 x 10\n",
    "arr_reshaped"
   ]
  },
  {
   "cell_type": "code",
   "execution_count": 5,
   "metadata": {},
   "outputs": [
    {
     "data": {
      "text/plain": [
       "array([[[ 48, 118,  68, 104,  10],\n",
       "        [ 22,  37,  88,  71,  89]],\n",
       "\n",
       "       [[141,  59,  40,  88,  89],\n",
       "        [ 82,  26,  78,  73,  10]],\n",
       "\n",
       "       [[149, 116,  80,  83, 100],\n",
       "        [ 30, 148, 148, 143,  33]]])"
      ]
     },
     "execution_count": 5,
     "metadata": {},
     "output_type": "execute_result"
    }
   ],
   "source": [
    "arr_reshaped = arr.reshape(3,2,5)  # 3-d array, 3x5x2\n",
    "arr_reshaped"
   ]
  },
  {
   "cell_type": "code",
   "execution_count": 6,
   "metadata": {},
   "outputs": [
    {
     "name": "stdout",
     "output_type": "stream",
     "text": [
      "array: \n",
      " [1 2 3 4 5 6 7 8] \n",
      "\n",
      "array shape: (8,)\n"
     ]
    }
   ],
   "source": [
    "arr = np.arange(start=1,stop=9,step=1)\n",
    "print(f\"array: \\n {arr} \\n\\n\"\n",
    "      f\"array shape: {arr.shape}\")"
   ]
  },
  {
   "cell_type": "code",
   "execution_count": 8,
   "metadata": {},
   "outputs": [
    {
     "name": "stdout",
     "output_type": "stream",
     "text": [
      "array: \n",
      " [[1]\n",
      " [2]\n",
      " [3]\n",
      " [4]\n",
      " [5]\n",
      " [6]\n",
      " [7]\n",
      " [8]] \n",
      "\n",
      "array shape: (8, 1)\n"
     ]
    }
   ],
   "source": [
    "arr_reshape = arr.reshape(-1,1)  \n",
    "\n",
    "# it is a 2-d array because you passed a tuple with 2 items\n",
    "# the -1 means 'unknown', so you don't know how many rows this 2-d array will have\n",
    "\n",
    "print(f\"array: \\n {arr_reshape} \\n\\n\"\n",
    "      f\"array shape: {arr_reshape.shape}\")"
   ]
  },
  {
   "cell_type": "code",
   "execution_count": 10,
   "metadata": {},
   "outputs": [
    {
     "name": "stdout",
     "output_type": "stream",
     "text": [
      "array: \n",
      " [[1 2]\n",
      " [3 4]\n",
      " [5 6]\n",
      " [7 8]] \n",
      "\n",
      "array shape: (4, 2)\n"
     ]
    }
   ],
   "source": [
    "arr_reshape = arr.reshape(-1,2) \n",
    "\n",
    "print(f\"array: \\n {arr_reshape} \\n\\n\"\n",
    "      f\"array shape: {arr_reshape.shape}\")"
   ]
  },
  {
   "cell_type": "code",
   "execution_count": 11,
   "metadata": {},
   "outputs": [
    {
     "ename": "ValueError",
     "evalue": "cannot reshape array of size 8 into shape (3)",
     "output_type": "error",
     "traceback": [
      "\u001b[0;31m---------------------------------------------------------------------------\u001b[0m",
      "\u001b[0;31mValueError\u001b[0m                                Traceback (most recent call last)",
      "\u001b[1;32m/workspace/data-analytics/numpy/numpy3Atributes.ipynb Cell 8'\u001b[0m in \u001b[0;36m<module>\u001b[0;34m\u001b[0m\n\u001b[0;32m----> <a href='vscode-notebook-cell://alimgee-dataanalytics-oepwwzw5src.ws-eu32.gitpod.io/workspace/data-analytics/numpy/numpy3Atributes.ipynb#ch0000007vscode-remote?line=0'>1</a>\u001b[0m aarr_reshape \u001b[39m=\u001b[39m arr\u001b[39m.\u001b[39;49mreshape(\u001b[39m-\u001b[39;49m\u001b[39m1\u001b[39;49m,\u001b[39m3\u001b[39;49m)\n",
      "\u001b[0;31mValueError\u001b[0m: cannot reshape array of size 8 into shape (3)"
     ]
    }
   ],
   "source": [
    "aarr_reshape = arr.reshape(-1,3)  \n",
    "# arr has 8 elements, it is not possible to reshape in 3 columns"
   ]
  },
  {
   "cell_type": "code",
   "execution_count": 12,
   "metadata": {},
   "outputs": [
    {
     "data": {
      "text/plain": [
       "array([[ 48, 118,  68, 104,  10],\n",
       "       [ 22,  37,  88,  71,  89]])"
      ]
     },
     "execution_count": 12,
     "metadata": {},
     "output_type": "execute_result"
    }
   ],
   "source": [
    "np.random.seed(seed=0)\n",
    "arr = np.random.randint(low=1,high=150,size=(2,5))\n",
    "arr"
   ]
  },
  {
   "cell_type": "code",
   "execution_count": 14,
   "metadata": {},
   "outputs": [
    {
     "data": {
      "text/plain": [
       "array([ 48, 118,  68, 104,  10,  22,  37,  88,  71,  89])"
      ]
     },
     "execution_count": 14,
     "metadata": {},
     "output_type": "execute_result"
    }
   ],
   "source": [
    "arr_flatten = arr.flatten() # flatten need no arguments\n",
    "arr_flatten"
   ]
  },
  {
   "cell_type": "code",
   "execution_count": 15,
   "metadata": {},
   "outputs": [
    {
     "data": {
      "text/plain": [
       "array([ 48, 118,  68, 104,  10,  22,  37,  88,  71,  89])"
      ]
     },
     "execution_count": 15,
     "metadata": {},
     "output_type": "execute_result"
    }
   ],
   "source": [
    "# Setting -1 at .reshape() indicates you want to reshape to a 1-d array but you dont tell the length, you let the computer calculate by itself\n",
    "arr_reshape = arr.reshape(-1)\n",
    "arr_reshape"
   ]
  },
  {
   "cell_type": "code",
   "execution_count": 17,
   "metadata": {},
   "outputs": [
    {
     "data": {
      "text/plain": [
       "10"
      ]
     },
     "execution_count": 17,
     "metadata": {},
     "output_type": "execute_result"
    }
   ],
   "source": [
    "arr.min()"
   ]
  },
  {
   "cell_type": "code",
   "execution_count": 18,
   "metadata": {},
   "outputs": [
    {
     "data": {
      "text/plain": [
       "118"
      ]
     },
     "execution_count": 18,
     "metadata": {},
     "output_type": "execute_result"
    }
   ],
   "source": [
    "arr.max()"
   ]
  },
  {
   "cell_type": "code",
   "execution_count": 19,
   "metadata": {},
   "outputs": [
    {
     "data": {
      "text/plain": [
       "4"
      ]
     },
     "execution_count": 19,
     "metadata": {},
     "output_type": "execute_result"
    }
   ],
   "source": [
    "arr.argmin()"
   ]
  },
  {
   "cell_type": "code",
   "execution_count": 20,
   "metadata": {},
   "outputs": [
    {
     "data": {
      "text/plain": [
       "1"
      ]
     },
     "execution_count": 20,
     "metadata": {},
     "output_type": "execute_result"
    }
   ],
   "source": [
    "arr.argmax()"
   ]
  },
  {
   "cell_type": "code",
   "execution_count": 23,
   "metadata": {},
   "outputs": [
    {
     "name": "stdout",
     "output_type": "stream",
     "text": [
      "* Array:\n",
      " [[ 1  2]\n",
      " [ 3  4]\n",
      " [ 5  6]\n",
      " [ 7  8]\n",
      " [ 9 10]] \n",
      "\n",
      "* Array shape: \n",
      " (5, 2) \n",
      "\n",
      "* Array type: \n",
      " int64\n"
     ]
    }
   ],
   "source": [
    "arr = np.arange(start=1,stop=11,step=1).reshape(5,2)\n",
    "print(\n",
    "    f\"* Array:\\n {arr} \\n\\n\"\n",
    "    f\"* Array shape: \\n {arr.shape} \\n\\n\"\n",
    "    f\"* Array type: \\n {arr.dtype}\"\n",
    "    )\n",
    "    "
   ]
  },
  {
   "cell_type": "code",
   "execution_count": 29,
   "metadata": {},
   "outputs": [
    {
     "name": "stdout",
     "output_type": "stream",
     "text": [
      "* Array:\n",
      " [[ 1.76405235  0.40015721  0.97873798  2.2408932 ]\n",
      " [ 1.86755799 -0.97727788  0.95008842 -0.15135721]] \n",
      "\n",
      "* Array shape: \n",
      " (2, 4) \n",
      "\n",
      "* Array type: \n",
      " float64\n"
     ]
    }
   ],
   "source": [
    "np.random.seed(seed=0)\n",
    "arr = np.random.randn(2,4)\n",
    "print(\n",
    "    f\"* Array:\\n {arr} \\n\\n\"\n",
    "    f\"* Array shape: \\n {arr.shape} \\n\\n\"\n",
    "    f\"* Array type: \\n {arr.dtype}\"\n",
    "    )"
   ]
  },
  {
   "cell_type": "code",
   "execution_count": null,
   "metadata": {},
   "outputs": [],
   "source": []
  }
 ],
 "metadata": {
  "interpreter": {
   "hash": "8b8334dab9339717f727a1deaf837b322d7a41c20d15cc86be99a8e69ceec8ce"
  },
  "kernelspec": {
   "display_name": "Python 3.8.12 64-bit ('3.8.12')",
   "language": "python",
   "name": "python3"
  },
  "language_info": {
   "codemirror_mode": {
    "name": "ipython",
    "version": 3
   },
   "file_extension": ".py",
   "mimetype": "text/x-python",
   "name": "python",
   "nbconvert_exporter": "python",
   "pygments_lexer": "ipython3",
   "version": "3.8.12"
  },
  "orig_nbformat": 4
 },
 "nbformat": 4,
 "nbformat_minor": 2
}
